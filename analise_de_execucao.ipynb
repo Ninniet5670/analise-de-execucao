{
  "nbformat": 4,
  "nbformat_minor": 0,
  "metadata": {
    "colab": {
      "provenance": []
    },
    "kernelspec": {
      "name": "python3",
      "display_name": "Python 3"
    },
    "language_info": {
      "name": "python"
    }
  },
  "cells": [
    {
      "cell_type": "code",
      "source": [
        "# !pip install pyspark --quiet"
      ],
      "metadata": {
        "id": "cs7-6X0byrJA"
      },
      "execution_count": null,
      "outputs": []
    },
    {
      "cell_type": "code",
      "source": [
        "import pandas as pd\n",
        "import numpy as np\n",
        "import pyspark.pandas as ps\n",
        "from pyspark.sql import SparkSession"
      ],
      "metadata": {
        "id": "eaGdUXHgJqro"
      },
      "execution_count": null,
      "outputs": []
    },
    {
      "cell_type": "code",
      "execution_count": null,
      "metadata": {
        "colab": {
          "base_uri": "https://localhost:8080/"
        },
        "id": "MifCHWzRw0rf",
        "outputId": "e30fb21c-fed0-485b-c17e-3a0141b28e2e"
      },
      "outputs": [
        {
          "output_type": "stream",
          "name": "stderr",
          "text": [
            "/usr/local/lib/python3.10/dist-packages/pyspark/pandas/namespace.py:1147: FutureWarning: the 'mangle_dupe_cols' keyword is deprecated and will be removed in a future version. Please take steps to stop the use of 'mangle_dupe_cols'\n",
            "  return pd.read_excel(\n",
            "/usr/local/lib/python3.10/dist-packages/pyspark/pandas/namespace.py:1147: FutureWarning: convert_float is deprecated and will be removed in a future version.\n",
            "  return pd.read_excel(\n",
            "/usr/local/lib/python3.10/dist-packages/pyspark/pandas/namespace.py:1147: FutureWarning: The squeeze argument has been deprecated and will be removed in a future version. Append .squeeze(\"columns\") to the call to squeeze.\n",
            "\n",
            "\n",
            "  return pd.read_excel(\n"
          ]
        },
        {
          "output_type": "stream",
          "name": "stdout",
          "text": [
            "CPU times: user 1.62 s, sys: 14.7 ms, total: 1.63 s\n",
            "Wall time: 1.86 s\n"
          ]
        }
      ],
      "source": [
        "%%time\n",
        "df1 = ps.read_excel(\"/content/Opiliones spreadsheet.xlsx\")\n"
      ]
    },
    {
      "cell_type": "code",
      "source": [
        "%%time\n",
        "df2 = ps.read_excel(\"/content/Lepidoptera_planilha.xlsx\")\n"
      ],
      "metadata": {
        "colab": {
          "base_uri": "https://localhost:8080/"
        },
        "id": "W3x510tBLh69",
        "outputId": "82f28323-773b-432f-aa69-57f721cbb28e"
      },
      "execution_count": null,
      "outputs": [
        {
          "output_type": "stream",
          "name": "stderr",
          "text": [
            "/usr/local/lib/python3.10/dist-packages/pyspark/pandas/namespace.py:1147: FutureWarning: the 'mangle_dupe_cols' keyword is deprecated and will be removed in a future version. Please take steps to stop the use of 'mangle_dupe_cols'\n",
            "  return pd.read_excel(\n",
            "/usr/local/lib/python3.10/dist-packages/pyspark/pandas/namespace.py:1147: FutureWarning: convert_float is deprecated and will be removed in a future version.\n",
            "  return pd.read_excel(\n",
            "/usr/local/lib/python3.10/dist-packages/pyspark/pandas/namespace.py:1147: FutureWarning: The squeeze argument has been deprecated and will be removed in a future version. Append .squeeze(\"columns\") to the call to squeeze.\n",
            "\n",
            "\n",
            "  return pd.read_excel(\n"
          ]
        },
        {
          "output_type": "stream",
          "name": "stdout",
          "text": [
            "CPU times: user 23.3 s, sys: 147 ms, total: 23.4 s\n",
            "Wall time: 24.2 s\n"
          ]
        }
      ]
    },
    {
      "cell_type": "code",
      "source": [
        "%%time\n",
        "df3 = pd.read_excel(\"/content/Opiliones spreadsheet.xlsx\")\n"
      ],
      "metadata": {
        "colab": {
          "base_uri": "https://localhost:8080/"
        },
        "id": "xzNHS1Xgw4AS",
        "outputId": "419c3d73-51f3-43ea-cf0f-20d9ff42c52a"
      },
      "execution_count": null,
      "outputs": [
        {
          "output_type": "stream",
          "name": "stdout",
          "text": [
            "CPU times: user 1.2 s, sys: 13.7 ms, total: 1.21 s\n",
            "Wall time: 1.21 s\n"
          ]
        }
      ]
    },
    {
      "cell_type": "code",
      "source": [
        "%%time\n",
        "df4 = pd.read_excel(\"/content/Lepidoptera_planilha.xlsx\")\n"
      ],
      "metadata": {
        "colab": {
          "base_uri": "https://localhost:8080/"
        },
        "id": "N5EFZKdnLiX7",
        "outputId": "575c4535-7d0e-4550-8279-b43dbbb1ca04"
      },
      "execution_count": null,
      "outputs": [
        {
          "output_type": "stream",
          "name": "stdout",
          "text": [
            "CPU times: user 22 s, sys: 79.8 ms, total: 22.1 s\n",
            "Wall time: 22.3 s\n"
          ]
        }
      ]
    },
    {
      "cell_type": "code",
      "source": [],
      "metadata": {
        "id": "0gfbXkDTylt3"
      },
      "execution_count": null,
      "outputs": []
    }
  ]
}